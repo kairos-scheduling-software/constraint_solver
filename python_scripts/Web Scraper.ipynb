{
 "metadata": {
  "name": "Web Scraper"
 },
 "nbformat": 3,
 "nbformat_minor": 0,
 "worksheets": [
  {
   "cells": [
    {
     "cell_type": "markdown",
     "metadata": {},
     "source": "# Schedule Table Structure #\n    0. Flg\n    1. Class Number\n    2. Subject\n    3. Catalog Number\n    4. Section\n    5. Component\n    6. Units\n    7. Title\n    8. Days Taught\n    9. Time\n    10. Location\n    11. Class Attributes\n    12. Instructor\n    13. Feed Back\n    14. Pre Req\n    15. Fees\n\n### Interesting Parts ###\n    1. Class/Index Number\n    3. (CS +) Catalog Number !\n    4. Section\n    7. Title\n    8. Days Taught\n    9. Time\n    10. Location !\n    12. Instructor !\n\n# Seating/Enrollment Table Structure #\n    0. Class (Index) Number\n    1. Subject\n    2. Catalog Number\n    3. Section\n    4. Title\n    5. Enrollment Cap\n    6. Currently Enrolled\n    7. Seats Available\n\n### Interesting Parts ###\n    0. Class (Index) Number (Not anymore!! Some classes don't have an index number in the schedule)\n    2. Catalog Number\n    3. Section (Primary key: Catalog Number + Section)\n    5. Enrollment Cap\n    6. Currently Enrolled\n    7. Seats Available"
    },
    {
     "cell_type": "markdown",
     "metadata": {},
     "source": "### Import libraries, setup variables"
    },
    {
     "cell_type": "code",
     "collapsed": false,
     "input": "import requests, bs4\nimport re, json\n\nschedule_url = r'http://www.acs.utah.edu/uofu/stu/scheduling?term=1154&dept=CS&classtype=g'\nenrollment_url = r'http://www.acs.utah.edu/uofu/stu/scheduling/crse-info?term=1154&subj=CS'\n\napi_key = '0123456789'\nschedule_name = 'Spr15 CS Schedule'\nOUT_FILE = '/home/dttvinh/new_spr15_schedule.json'\n\nkeep_all_data = True\n\nCNAME = 'name'\nCID = 'id'\nCDAYS = 'days_count'\nCDURATION = 'duration'\nCSTARTTM = 'pStartTm'\nCSPACEID = 'spaceId'\nCPERSON = 'persons'\nCMAXPTCPNT = 'max_participants'\n",
     "language": "python",
     "metadata": {},
     "outputs": [],
     "prompt_number": 1
    },
    {
     "cell_type": "code",
     "collapsed": false,
     "input": "CLASS_DICT = {'index':1, 'catalog_number':3, 'section':4, 'title':7, 'days': 8, 'time': 9, 'location':10, 'instructor': 12}\n#a_link = {class_dict[item] for item in ['catalog_number', 'location', 'instructor']}\n\nENROLLMENT_DICT = {'index':0, 'catalog_number':2, 'section':3, 'enrollment_cap':5, 'enrolled':6}",
     "language": "python",
     "metadata": {},
     "outputs": [],
     "prompt_number": 2
    },
    {
     "cell_type": "markdown",
     "metadata": {},
     "source": "### Helper functions for fetching/parsing html data"
    },
    {
     "cell_type": "code",
     "collapsed": false,
     "input": "def get_soup(url):\n    r = requests.get(url)\n    return bs4.BeautifulSoup(r.text)\n\ndef get_rowspan(tr):\n    return int(tr.td.get('rowspan', '1'))\n\ndef skip_rows(tr_iter, count=1):\n    while count > 0:\n        tr = next(tr_iter)\n        count -= get_rowspan(tr)\n\ndef get_cell_string(td):\n    if td.a != None:\n        value = td.a.string\n    else:\n        value = td.string\n    return unicode(value).encode(errors='ignore').strip()",
     "language": "python",
     "metadata": {},
     "outputs": [],
     "prompt_number": 3
    },
    {
     "cell_type": "markdown",
     "metadata": {},
     "source": "### Classes scraper methods"
    },
    {
     "cell_type": "code",
     "collapsed": false,
     "input": "def get_class_record(tr):\n    cells = tr.find_all('td', recursive=False)\n    return {key:get_cell_string(cells[index]) for key, index in CLASS_DICT.iteritems()}\n\ndef get_class_records(rows):\n    return [get_class_record(tr) for tr in rows]",
     "language": "python",
     "metadata": {},
     "outputs": [],
     "prompt_number": 4
    },
    {
     "cell_type": "code",
     "collapsed": false,
     "input": "def get_class_html_data(soup):\n    tables = soup.find(class_='sizer').find_all('table', recursive=False)\n\n    table = tables[1]\n    rows = table.find_all('tr', recursive=False)\n    \n    it = iter(rows)\n    while True:\n        tr = it.next()\n        # Ignore \"table header\" and \"row separator\"\n        if tr.td.string == 'Flg' or len(tr.find_all('td', recursive=False)) == 1:\n            continue\n        rowspan = get_rowspan(tr)\n        yield tr\n        skip_rows(it, rowspan - 1)",
     "language": "python",
     "metadata": {},
     "outputs": [],
     "prompt_number": 5
    },
    {
     "cell_type": "markdown",
     "metadata": {},
     "source": "### Enrollment data scraper methods"
    },
    {
     "cell_type": "code",
     "collapsed": false,
     "input": "def get_enrollment_html_data(soup):\n    rows = soup.html.find(id='innerwrapper').table.find_all('tr', recursive=False)\n    return rows[1::2]\n\ndef get_enrollment_record(tr):\n    cells = tr.find_all('td', recursive=False)\n    return {key:get_cell_string(cells[index]) for key, index in ENROLLMENT_DICT.iteritems()}\n\ndef get_enrollment_records(html_data):\n    return [get_enrollment_record(tr) for tr in html_data]",
     "language": "python",
     "metadata": {},
     "outputs": [],
     "prompt_number": 6
    },
    {
     "cell_type": "markdown",
     "metadata": {},
     "source": "### Helper methods for joining classes list and enrollment list"
    },
    {
     "cell_type": "code",
     "collapsed": false,
     "input": "def get_mapping(item_list, *keys):\n    return {tuple(item[key] for key in keys):item for item in item_list}\n\ndef join_tables(main_list, second_list, *joint_keys):\n    lookup_mapping = get_mapping(second_list, *joint_keys)\n    for i in range(len(main_list)):\n        lookup_value = tuple(main_list[i][key] for key in joint_keys)\n        try:\n            main_list[i].update(lookup_mapping[lookup_value])\n        except:\n            print(main_list[i])\n            print(lookup_mapping[lookup_value])\n            return",
     "language": "python",
     "metadata": {},
     "outputs": [],
     "prompt_number": 7
    },
    {
     "cell_type": "markdown",
     "metadata": {},
     "source": "### Scraping actual data"
    },
    {
     "cell_type": "code",
     "collapsed": false,
     "input": "schedule_soup = get_soup(schedule_url)\nclass_html_data = list(get_class_html_data(schedule_soup))\n\nlen(class_html_data)",
     "language": "python",
     "metadata": {},
     "outputs": [
      {
       "metadata": {},
       "output_type": "pyout",
       "prompt_number": 8,
       "text": "137"
      }
     ],
     "prompt_number": 8
    },
    {
     "cell_type": "code",
     "collapsed": false,
     "input": "class_records = get_class_records(class_html_data)\nclass_records[100]",
     "language": "python",
     "metadata": {},
     "outputs": [
      {
       "metadata": {},
       "output_type": "pyout",
       "prompt_number": 9,
       "text": "{'catalog_number': '6350',\n 'days': 'M,W',\n 'index': '16890',\n 'instructor': 'SRIKUMAR, V.',\n 'location': 'WEB L102',\n 'section': '001',\n 'time': '03:00 PM-04:20 PM',\n 'title': 'Machine Learning'}"
      }
     ],
     "prompt_number": 9
    },
    {
     "cell_type": "code",
     "collapsed": false,
     "input": "enrollment_soup = get_soup(enrollment_url)\n\nenrollment_html_data = get_enrollment_html_data(enrollment_soup)\n\nenrollment_records = get_enrollment_records(enrollment_html_data)\n\nenrollment_records[0]",
     "language": "python",
     "metadata": {},
     "outputs": [
      {
       "metadata": {},
       "output_type": "pyout",
       "prompt_number": 10,
       "text": "{'catalog_number': '104',\n 'enrolled': '3',\n 'enrollment_cap': '3',\n 'index': '18499',\n 'section': '090'}"
      }
     ],
     "prompt_number": 10
    },
    {
     "cell_type": "code",
     "collapsed": false,
     "input": "join_tables(class_records, enrollment_records, 'catalog_number', 'section')",
     "language": "python",
     "metadata": {},
     "outputs": [],
     "prompt_number": 11
    },
    {
     "cell_type": "markdown",
     "metadata": {},
     "source": "### Remove classes with TBA day/time/location"
    },
    {
     "cell_type": "code",
     "collapsed": false,
     "input": "tba_field_func = lambda record, *fields: any([record[field].startswith('TBA') for field in fields])\ntba_record_func = lambda d: tba_field_func(d, 'days', 'time', 'location')\n\nfinal_map = [record for record in class_records if not tba_record_func(record)]\n\nprint any(map(tba_record_func, class_records))\nprint sum(map(tba_record_func, class_records))\n\nprint len(class_records)\nprint len(class_records) - sum(map(tba_record_func, class_records))\n\nprint any(map(lambda d: d['days'] == 'TBA', final_map))\nprint len(final_map)\n\nprint(final_map[0])",
     "language": "python",
     "metadata": {},
     "outputs": [
      {
       "output_type": "stream",
       "stream": "stdout",
       "text": "True\n11\n137\n126\nFalse\n126\n{'index': '18583', 'catalog_number': '462', 'title': 'Special Topics', 'section': '001', 'enrolled': '1', 'days': 'M,W', 'enrollment_cap': '2', 'location': 'M LI 1120', 'time': '04:35 PM-05:55 PM', 'instructor': 'STOKER, M. L.'}\n"
      }
     ],
     "prompt_number": 12
    },
    {
     "cell_type": "markdown",
     "metadata": {},
     "source": "### Helper methods for normalizing classes data/converting to json\n- convert_time: parse a time string to int, used to calculate a class' duration\n- normalize_locations: \"Guess\" a location's capacity by the highest enrollment-cap value\n- get_possible_start_times: Add & populate pStartTm field to the input dict\n- normalize_class_record: return a dict with necessary fields for the json output (id, name, days_count, ...)\n- filter_records: Filter out records/classes with \"unusual\" time block (those that we can't handle yet)"
    },
    {
     "cell_type": "code",
     "collapsed": false,
     "input": "RE_DAYS = re.compile('[MTWHFSU]', flags=re.IGNORECASE)\nRE_TIME = re.compile('(\\d+):(\\d+)\\s*(am|pm)', re.IGNORECASE)",
     "language": "python",
     "metadata": {},
     "outputs": [],
     "prompt_number": 13
    },
    {
     "cell_type": "code",
     "collapsed": false,
     "input": "filter_record_func = lambda c: (c['duration'], c['days_count']) in [(50, 1), (80, 1), (50, 2), (80, 2), (50, 3)]\n\ndef convert_time(time_tuple):\n    h = int(time_tuple[0]) % 12\n    m = int(time_tuple[1])\n    pm = (time_tuple[2].lower() == 'pm')\n    return h * 60 + m + pm * 60 * 12\n\ndef normalize_locations(records):\n    \n    tmp = dict()\n    for record in records:\n        if tmp.get(record['location'], 0) < int(record['enrollment_cap']):\n            tmp[record['location']] = int(record['enrollment_cap'])\n    locations = [{'type':'room', 'name':location, 'capacity':capacity,\n                  #'time':[[i, 0, 23*60] for i in range(5)]\n                  } for location, capacity in tmp.iteritems()]\n    n = len(locations)\n    for i in range(n):\n        locations[i]['id'] = i\n    return locations\n\ndef get_possible_start_times(record):\n    mw = ['0805', '1150', '1325', '1500']\n    tth = ['0730', '0910', '1045', '1225', '1400', '1540']\n    mwf = ['0730', '0835', '0940', '1045', '1150', '1255', '1400', '1505', '1610']\n    block_mapping = {(80,1): [(mw, 'M'), (mw, 'W'), (tth, 'T'), (tth, 'H')],\n                     (50, 1): [(mwf, 'M'), (mwf, 'W'), (mwf, 'F')],\n                     (80,2): [(mw, 'MW'), (tth, 'TH')],\n                     (50,2): [(mwf, 'MW')], (50,3): [(mwf, 'MWF')]}\n    \n    mapping = block_mapping[(record['duration'], record['days_count'])]\n    pStartTm = dict()\n    for blocks,day in mapping:\n        #pStartTm.extend([day + b for b in blocks])\n        pStartTm[day] = blocks\n    record['pStartTm'] = pStartTm\n\ndef normalize_class_record(record):\n    normalize_class_record.id += 1\n    output = dict()\n    time_start, time_end = RE_TIME.findall(record['time'])\n    \n    output['name'] = 'CS {}-{}'.format(record['catalog_number'], record['section'])\n    output['id'] = normalize_class_record.id\n    output['days_count'] = len(RE_DAYS.findall(record['days']))\n    output['duration'] = convert_time(time_end) - convert_time(time_start)\n    output['max_participants'] = int(record['enrollment_cap'])\n    output['persons'] = record['instructor']\n    \n    return output\nnormalize_class_record.id = 0\n\ndef get_output_json(records):\n    normalized_class_data = [normalize_class_record(record) for record in records]\n    \n    filtered_classes = [record for record in normalized_class_data if filter_record_func(record)]\n    \n    locations = normalize_locations(records)\n    persons = list({record['persons'] for record in filtered_classes})\n    persons_mapping = {persons[i]: i for i in range(len(persons))}\n    for record in filtered_classes:\n        get_possible_start_times(record)\n        record['persons'] = persons_mapping[record['persons']]\n    \n    output_dict = {'name':schedule_name, 'api-key':api_key,\n                   'SPACE':locations, 'EVENT':filtered_classes}\n    return json.dumps(output_dict, indent=4, sort_keys=True)",
     "language": "python",
     "metadata": {},
     "outputs": [],
     "prompt_number": 14
    },
    {
     "cell_type": "markdown",
     "metadata": {},
     "source": "### Write actual data (in json format) to OUT_FILE"
    },
    {
     "cell_type": "code",
     "collapsed": false,
     "input": "with open(OUT_FILE, 'w') as f:\n    f.write(get_output_json(final_map))",
     "language": "python",
     "metadata": {},
     "outputs": [],
     "prompt_number": 15
    },
    {
     "cell_type": "markdown",
     "metadata": {},
     "source": "### Experimental Area"
    },
    {
     "cell_type": "code",
     "collapsed": false,
     "input": "header = ['name', 'section', 'days_count', 'duration', 'max_enrollment', 'location', 'professor']\n\ndef write_header(f):\n    f.write('\\t'.join(header))\n    f.write('\\n')\n\ndef write_record(f, output_record):\n    f.write('\\t'.join([str(output_record[field]) for field in header]))\n    f.write('\\n')\n\ndef write_records(file_name, output_records):\n    with open(file_name, 'w') as f:\n        write_header(f)\n        for record in output_records:\n            write_record(f, record)",
     "language": "python",
     "metadata": {},
     "outputs": [],
     "prompt_number": 16
    },
    {
     "cell_type": "code",
     "collapsed": false,
     "input": "[record for record in class_records if record['index'] == '9122']",
     "language": "python",
     "metadata": {},
     "outputs": [
      {
       "metadata": {},
       "output_type": "pyout",
       "prompt_number": 17,
       "text": "[{'catalog_number': '7932',\n  'days': 'F',\n  'enrolled': '1',\n  'enrollment_cap': '20',\n  'index': '9122',\n  'instructor': 'MEYER, M. D.',\n  'location': 'TBA .',\n  'section': '001',\n  'time': '02:00 PM-02:50 PM',\n  'title': 'Scientific Computing & Imaging'}]"
      }
     ],
     "prompt_number": 17
    },
    {
     "cell_type": "code",
     "collapsed": false,
     "input": "def test_arguments(name, *keys):\n    print(name)\n    print(keys)\n    print type(keys)\n\ntest_arguments('first', 'second', *('third', 'fourth'))",
     "language": "python",
     "metadata": {},
     "outputs": [
      {
       "output_type": "stream",
       "stream": "stdout",
       "text": "first\n('second', 'third', 'fourth')\n<type 'tuple'>\n"
      }
     ],
     "prompt_number": 18
    },
    {
     "cell_type": "code",
     "collapsed": false,
     "input": "normalized_class_data = [normalize_class_record(record) for record in final_map]\nnormalized_class_data = [record for record in normalized_class_data if filter_record_func(record)]\nlen(normalized_class_data)",
     "language": "python",
     "metadata": {},
     "outputs": [
      {
       "metadata": {},
       "output_type": "pyout",
       "prompt_number": 20,
       "text": "104"
      }
     ],
     "prompt_number": 20
    }
   ],
   "metadata": {}
  }
 ]
}